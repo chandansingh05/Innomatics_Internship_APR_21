{
 "cells": [
  {
   "cell_type": "markdown",
   "id": "developmental-desire",
   "metadata": {},
   "source": [
    "## Q1 Here is a sample line of code that can be executed in Python:\n",
    "**<br>print(\"Hello, World!\")</br>**\n"
   ]
  },
  {
   "cell_type": "code",
   "execution_count": 2,
   "id": "executive-newspaper",
   "metadata": {},
   "outputs": [
    {
     "name": "stdout",
     "output_type": "stream",
     "text": [
      "Hello, World!\n"
     ]
    }
   ],
   "source": [
    "My_String = (\"Hello, World!\")\n",
    "print(My_String)"
   ]
  },
  {
   "cell_type": "markdown",
   "id": "funky-lebanon",
   "metadata": {},
   "source": [
    "## Q2 Given an integer,n, perform the following conditional actions:\n",
    "\n",
    "**<br>1.If n is odd, print Weird</br>\n",
    "<br>2.If n is even and in the inclusive range of 2 to 5, print Not Weird</br>\n",
    "<br>3.If n is even and in the inclusive range of 6 to 20, print Weird</br>\n",
    "<br>4.If n is even and greater than 20, print Not Weird</br>**"
   ]
  },
  {
   "cell_type": "code",
   "execution_count": 17,
   "id": "possible-edmonton",
   "metadata": {},
   "outputs": [
    {
     "name": "stdout",
     "output_type": "stream",
     "text": [
      "24\n",
      "Not Weird\n"
     ]
    }
   ],
   "source": [
    "x = int(input())\n",
    "if x%2==1 or x in range (5,21):\n",
    "    print(\"Weird\")\n",
    "else:\n",
    "    print(\"Not Weird\")"
   ]
  },
  {
   "cell_type": "markdown",
   "id": "prescribed-desert",
   "metadata": {},
   "source": [
    "## Q3 The provided code stub reads two integers from STDIN, a and b. Add code to print three lines where:\n",
    "\n",
    "**<br>1.The first line contains the sum of the two numbers.</br>\n",
    "<br>2.The second line contains the difference of the two numbers (first - second).</br>\n",
    "<br>3.The third line contains the product of the two numbers.</br>**"
   ]
  },
  {
   "cell_type": "code",
   "execution_count": 19,
   "id": "becoming-taiwan",
   "metadata": {},
   "outputs": [
    {
     "name": "stdout",
     "output_type": "stream",
     "text": [
      "5\n",
      "2\n",
      "output Below\n",
      "\n",
      "7\n",
      "3\n",
      "10\n"
     ]
    }
   ],
   "source": [
    "if __name__ == '__main__':\n",
    "    a = int(input())\n",
    "    b = int(input())\n",
    "    print('output Below\\n')\n",
    "    print(a+b)\n",
    "    print(a-b)\n",
    "    print(a*b)"
   ]
  },
  {
   "cell_type": "markdown",
   "id": "supposed-scope",
   "metadata": {},
   "source": [
    "## Q 4 The provided code stub reads two integers, a and b, from STDIN.\n",
    "\n",
    "**<br>1.Add logic to print two lines. The first line should contain the result of integer division, a//b .</br>\n",
    "<br>2.The second line should contain the result of float division, a/b .</br>\n",
    "<br>3.No rounding or formatting is necessary.</br>**"
   ]
  },
  {
   "cell_type": "code",
   "execution_count": 22,
   "id": "acting-enzyme",
   "metadata": {},
   "outputs": [
    {
     "name": "stdout",
     "output_type": "stream",
     "text": [
      "Enter input value\n",
      "\n",
      "6\n",
      "6\n",
      "output given Below\n",
      "\n",
      "1\n",
      "1.0\n"
     ]
    }
   ],
   "source": [
    "if __name__ == '__main__':\n",
    "    print('Enter input value\\n')\n",
    "    a = int(input())\n",
    "    b = int(input())\n",
    "    print('output given Below\\n')\n",
    "    print(a//b)\n",
    "    print(a/b)"
   ]
  },
  {
   "cell_type": "markdown",
   "id": "abroad-charleston",
   "metadata": {},
   "source": [
    "## Q5 The provided code stub reads and integer,n, from STDIN. For all non-negative integers i < n, print i*2 ."
   ]
  },
  {
   "cell_type": "code",
   "execution_count": 32,
   "id": "recognized-borough",
   "metadata": {},
   "outputs": [
    {
     "name": "stdout",
     "output_type": "stream",
     "text": [
      "Enter given Input\n",
      "\n",
      "8\n",
      "print output Below\n",
      "\n",
      "0\n",
      "1\n",
      "4\n",
      "9\n",
      "16\n",
      "25\n",
      "36\n",
      "49\n"
     ]
    }
   ],
   "source": [
    "if __name__ == '__main__':\n",
    "    print('Enter given Input\\n')\n",
    "    n = int(input())\n",
    "    print('print output Below\\n')\n",
    "    for i in range(n):\n",
    "        print(i*i)"
   ]
  },
  {
   "cell_type": "markdown",
   "id": "fancy-antigua",
   "metadata": {},
   "source": [
    "## Q6. Given a year, determine whether it is a leap year. If it is a leap year, return the Boolean True, otherwise return False.\n",
    "\n",
    "**<br>Note that the code stub provided reads from STDIN and passes arguments to the is_leap function. It is only necessary to complete the is_leap function.</br>**"
   ]
  },
  {
   "cell_type": "code",
   "execution_count": 45,
   "id": "tracked-measurement",
   "metadata": {},
   "outputs": [
    {
     "name": "stdout",
     "output_type": "stream",
     "text": [
      "Enter the Input Value are\n",
      "\n",
      "2024\n",
      "Output Value are\n",
      "\n",
      "True\n"
     ]
    }
   ],
   "source": [
    "def is_leap(year):\n",
    "    leap = False    \n",
    "    leap = (year%400==0) or (year%4==0 and year%100!=0)    \n",
    "    return leap\n",
    "print('Enter the Input Value are\\n')\n",
    "year = int(input())\n",
    "print('Output Value are\\n')\n",
    "print(is_leap(year))"
   ]
  },
  {
   "cell_type": "markdown",
   "id": "urban-accreditation",
   "metadata": {},
   "source": [
    "## Q7. Print Function The included code stub will read an integer, , from STDIN. Without using any string methods, try to print the following:\n",
    "\n",
    "**123....n\n",
    "Note that \"\" represents the consecutive values in between.**"
   ]
  },
  {
   "cell_type": "code",
   "execution_count": 61,
   "id": "medical-supervision",
   "metadata": {},
   "outputs": [
    {
     "name": "stdout",
     "output_type": "stream",
     "text": [
      "Enter the number\n",
      "\n",
      "55\n",
      "Output value are:-\n",
      "\n",
      "1,2,3,4,5,6,7,8,9,10,11,12,13,14,15,16,17,18,19,20,21,22,23,24,25,26,27,28,29,30,31,32,33,34,35,36,37,38,39,40,41,42,43,44,45,46,47,48,49,50,51,52,53,54,55,"
     ]
    }
   ],
   "source": [
    "if __name__ == '__main__':\n",
    "    print('Enter the number\\n')\n",
    "    n = int(input())\n",
    "    number=range(1,n+1)\n",
    "    print('Output value are:-\\n')\n",
    "    for i in number:\n",
    "        print(i,end=\",\")"
   ]
  },
  {
   "cell_type": "code",
   "execution_count": null,
   "id": "presidential-geology",
   "metadata": {},
   "outputs": [],
   "source": []
  },
  {
   "cell_type": "code",
   "execution_count": null,
   "id": "premium-arnold",
   "metadata": {},
   "outputs": [],
   "source": []
  }
 ],
 "metadata": {
  "kernelspec": {
   "display_name": "Python 3",
   "language": "python",
   "name": "python3"
  },
  "language_info": {
   "codemirror_mode": {
    "name": "ipython",
    "version": 3
   },
   "file_extension": ".py",
   "mimetype": "text/x-python",
   "name": "python",
   "nbconvert_exporter": "python",
   "pygments_lexer": "ipython3",
   "version": "3.8.8"
  }
 },
 "nbformat": 4,
 "nbformat_minor": 5
}
