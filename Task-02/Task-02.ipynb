{
 "cells": [
  {
   "cell_type": "markdown",
   "id": "passive-russian",
   "metadata": {},
   "source": [
    "## List Comprehensions\n",
    "**Q1 Let's learn about list comprehensions! You are given three integers x,y and z representing the dimensions of a cuboid along with an integer n. Print a list of all possible coordinates given by (i,j,k) on a 3D grid where the sum of i+j+k is not equal to n. Here, 0<=i<=x; 0<=j<=y; 0<=k<=z. Please use list comprehensions rather than multiple loops, as a learning exercise.**\n"
   ]
  },
  {
   "cell_type": "code",
   "execution_count": 2,
   "id": "promotional-theory",
   "metadata": {
    "scrolled": true
   },
   "outputs": [
    {
     "name": "stdout",
     "output_type": "stream",
     "text": [
      "5\n",
      "4\n",
      "2\n",
      "3\n",
      "[[0, 0, 0], [0, 0, 1], [0, 0, 2], [0, 1, 0], [0, 1, 1], [0, 2, 0], [0, 2, 2], [0, 3, 1], [0, 3, 2], [0, 4, 0], [0, 4, 1], [0, 4, 2], [1, 0, 0], [1, 0, 1], [1, 1, 0], [1, 1, 2], [1, 2, 1], [1, 2, 2], [1, 3, 0], [1, 3, 1], [1, 3, 2], [1, 4, 0], [1, 4, 1], [1, 4, 2], [2, 0, 0], [2, 0, 2], [2, 1, 1], [2, 1, 2], [2, 2, 0], [2, 2, 1], [2, 2, 2], [2, 3, 0], [2, 3, 1], [2, 3, 2], [2, 4, 0], [2, 4, 1], [2, 4, 2], [3, 0, 1], [3, 0, 2], [3, 1, 0], [3, 1, 1], [3, 1, 2], [3, 2, 0], [3, 2, 1], [3, 2, 2], [3, 3, 0], [3, 3, 1], [3, 3, 2], [3, 4, 0], [3, 4, 1], [3, 4, 2], [4, 0, 0], [4, 0, 1], [4, 0, 2], [4, 1, 0], [4, 1, 1], [4, 1, 2], [4, 2, 0], [4, 2, 1], [4, 2, 2], [4, 3, 0], [4, 3, 1], [4, 3, 2], [4, 4, 0], [4, 4, 1], [4, 4, 2], [5, 0, 0], [5, 0, 1], [5, 0, 2], [5, 1, 0], [5, 1, 1], [5, 1, 2], [5, 2, 0], [5, 2, 1], [5, 2, 2], [5, 3, 0], [5, 3, 1], [5, 3, 2], [5, 4, 0], [5, 4, 1], [5, 4, 2]]\n",
      " * Serving Flask app \"__main__\" (lazy loading)\n",
      " * Environment: production\n",
      "   WARNING: This is a development server. Do not use it in a production deployment.\n",
      "   Use a production WSGI server instead.\n",
      " * Debug mode: on\n"
     ]
    },
    {
     "name": "stderr",
     "output_type": "stream",
     "text": [
      " * Restarting with windowsapi reloader\n"
     ]
    },
    {
     "ename": "SystemExit",
     "evalue": "1",
     "output_type": "error",
     "traceback": [
      "An exception has occurred, use %tb to see the full traceback.\n",
      "\u001b[1;31mSystemExit\u001b[0m\u001b[1;31m:\u001b[0m 1\n"
     ]
    }
   ],
   "source": [
    "from flask import Flask, request, render_template\n",
    "from flask_cors import cross_origin\n",
    "if __name__ == '__main__':\n",
    "    app = Flask(__name__)\n",
    "    x = int(input())\n",
    "    y = int(input())\n",
    "    z = int(input())\n",
    "    n = int(input())\n",
    "    File = [[i, j, k] for i in range(x+1) for j in range(y+1) for k in range(z+1) if i+j+k!=n]\n",
    "    print(File)\n",
    "    if __name__ == '__main__':\n",
    "     app.run(debug=True)\n",
    "   "
   ]
  },
  {
   "cell_type": "markdown",
   "id": "bulgarian-prefix",
   "metadata": {},
   "source": [
    "# Q2.Find the Runner-Up Score!\n"
   ]
  },
  {
   "cell_type": "markdown",
   "id": "terminal-dream",
   "metadata": {},
   "source": [
    "**Given the participants' score sheet for your University Sports Day, you are required to find the runner-up score. You are given  scores. Store them in a list and find the score of the runner-up.**"
   ]
  },
  {
   "cell_type": "code",
   "execution_count": 5,
   "id": "focused-throat",
   "metadata": {},
   "outputs": [
    {
     "name": "stdout",
     "output_type": "stream",
     "text": [
      "5\n",
      "2 6 3 5 2 \n",
      "5\n"
     ]
    }
   ],
   "source": [
    "if __name__ == '__main__':\n",
    "    n = int(input())\n",
    "    array = list(map(int, input().split()))\n",
    "    first = max(array)\n",
    "    \n",
    "    print(max(list(filter(lambda a: a != first, array))))"
   ]
  },
  {
   "cell_type": "markdown",
   "id": "interesting-instruction",
   "metadata": {},
   "source": [
    "# Q3.Nested Lists\n",
    "**Given the names and grades for each student in a class of N students, store them in a nested list and print the name(s) of any student(s) having the second lowest grade.\n",
    "Note: If there are multiple students with the second lowest grade, order their names alphabetically and print each name on a new line.**"
   ]
  },
  {
   "cell_type": "code",
   "execution_count": 17,
   "id": "fixed-defense",
   "metadata": {},
   "outputs": [
    {
     "name": "stdout",
     "output_type": "stream",
     "text": [
      "Enter the input Below \n",
      "\n",
      "5\n",
      "abc\n",
      "2.55\n",
      "bcd\n",
      "3.55\n",
      "bhk\n",
      "2.55\n",
      "dfh\n",
      "6.5\n",
      "asg\n",
      "1.5\n",
      "shown output Below \n",
      "\n",
      "abc\n",
      "bhk\n"
     ]
    }
   ],
   "source": [
    "if __name__ == '__main__':\n",
    "    print(\"Enter the input Below \\n\")\n",
    "    students = []\n",
    "    scores = []\n",
    "    for _ in range(int(input())):\n",
    "        name = input()\n",
    "        score = float(input())\n",
    "        student = [name, score]\n",
    "        students.append(student)\n",
    "        scores.append(score)\n",
    "    second_min_score = sorted(set(scores))[1]\n",
    "    filtered_student_names = sorted([student[0] for student in students if student[1] == second_min_score])\n",
    "    print(\"shown output Below \\n\")\n",
    "    print(\"\\n\".join(filtered_student_names))"
   ]
  },
  {
   "cell_type": "markdown",
   "id": "graphic-integrity",
   "metadata": {},
   "source": [
    "# Q4.Finding the percentage\n",
    "\n",
    "**The provided code stub will read in a dictionary containing key/value pairs of name:[marks] for a list of students. Print the average of the marks array for the student name provided, showing 2 places after the decimal.**"
   ]
  },
  {
   "cell_type": "code",
   "execution_count": 7,
   "id": "voluntary-porter",
   "metadata": {},
   "outputs": [
    {
     "name": "stdout",
     "output_type": "stream",
     "text": [
      "4\n",
      "bipul 25 20 26\n",
      "rahul 35 25 60\n",
      "mona 50 65 52\n",
      "rahul 25 32 26\n",
      "bipul\n",
      "23.67\n"
     ]
    }
   ],
   "source": [
    "if __name__ == '__main__':\n",
    "    n = int(input())\n",
    "    student_marks = {}\n",
    "    for _ in range(n):\n",
    "        name, *line = input().split()\n",
    "        scores = list(map(float, line))\n",
    "        student_marks[name] = scores\n",
    "    query_name = input()\n",
    "    res = sum(student_marks[query_name])/len(student_marks[name])\n",
    "    print(\"{:.2f}\".format(res))"
   ]
  },
  {
   "cell_type": "markdown",
   "id": "accessory-nitrogen",
   "metadata": {},
   "source": [
    "# Q5.Lists\n",
    "**Consider a list (list = []). You can perform the following commands:\n",
    "<br>1.insert i e: Insert integer  at position .</br>\n",
    "<br>2.print: Print the list.</br>\n",
    "<br>3.remove e: Delete the first occurrence of integer .</br>\n",
    "<br>4.append e: Insert integer  at the end of the list.</br>\n",
    "<br>5.sort: Sort the list.</br>\n",
    "<br>6.pop: Pop the last element from the list.</br>\n",
    "<br>7.reverse: Reverse the list.</br>\n",
    "<br>Initialize your list and read in the value of  followed by  lines of commands where each command will be of the  types listed above. Iterate through each command in order and perform the corresponding operation on your list.</br>**\n"
   ]
  },
  {
   "cell_type": "code",
   "execution_count": 8,
   "id": "asian-mystery",
   "metadata": {},
   "outputs": [
    {
     "name": "stdout",
     "output_type": "stream",
     "text": [
      "12\n",
      "insert 6 15\n",
      "insert 10 15\n",
      "insert 20 25\n",
      "print\n",
      "[15, 15, 25]\n",
      "remove 15\n",
      "append 9\n",
      "append 1\n",
      "sort\n",
      "print\n",
      "[1, 9, 15, 25]\n",
      "pop\n",
      "reverse\n",
      "print\n",
      "[15, 9, 1]\n"
     ]
    }
   ],
   "source": [
    "if __name__ == '__main__':\n",
    "    N = int(input())\n",
    "    ar = []\n",
    "    for i in range(0, N):\n",
    "        tmp_str = input()\n",
    "        tmp_str_ar = tmp_str.strip().split(\" \")\n",
    "        cmd = tmp_str_ar[0]\n",
    "        if cmd == \"print\":\n",
    "            print(ar)\n",
    "        elif cmd == \"sort\":\n",
    "            ar.sort()\n",
    "        elif cmd == \"reverse\":\n",
    "            ar.reverse()\n",
    "        elif cmd == \"pop\":\n",
    "            ar.pop()\n",
    "        elif cmd == \"count\":\n",
    "            val = int(tmp_str_ar[1])\n",
    "            ar.count(val)\n",
    "        elif cmd == \"index\":\n",
    "            val = int(tmp_str_ar[1])\n",
    "            ar.index(val)\n",
    "        elif cmd == \"remove\":\n",
    "            val = int(tmp_str_ar[1])\n",
    "            ar.remove(val)\n",
    "        elif cmd == \"append\":\n",
    "            val = int(tmp_str_ar[1])\n",
    "            ar.append(val)\n",
    "        elif cmd == \"insert\":\n",
    "            pos = int(tmp_str_ar[1])\n",
    "            val = int(tmp_str_ar[2])\n",
    "            ar.insert(pos, val)\n"
   ]
  },
  {
   "cell_type": "markdown",
   "id": "champion-aruba",
   "metadata": {},
   "source": [
    "### Tuples\n",
    "\n",
    "**Q6.Given an integer, n, and n space-separated integers as input, create a tuple,t , of those n integers. Then compute and print the result of hash(t) .\n",
    "Note: hash() is one of the functions in the builtins module, so it need not be imported.**"
   ]
  },
  {
   "cell_type": "code",
   "execution_count": 55,
   "id": "eight-endorsement",
   "metadata": {},
   "outputs": [
    {
     "name": "stdout",
     "output_type": "stream",
     "text": [
      "Enter the input\n",
      "\n",
      "2\n",
      "1 2\n",
      "Result shown Below\n",
      "\n",
      "994727857\n"
     ]
    }
   ],
   "source": [
    "if __name__ == '__main__':\n",
    "    print('Enter the input\\n')\n",
    "    n = int(input())\n",
    "    integer_list = map(int, input().split())\n",
    "    t = tuple(integer_list)\n",
    "    print('Result shown Below\\n')\n",
    "    print(hash(t))"
   ]
  },
  {
   "cell_type": "markdown",
   "id": "closed-jewel",
   "metadata": {},
   "source": [
    "**Q7 There is an array of n integers. There are also 2 disjoint sets, A and B, each containing integers. You like all the integers in set A and dislike all the integers in set B. Your initial happiness is 0. For each i integer in the array, if i ε A, you add 1 to your happiness. If i ε B, you add -1 to your happiness. Otherwise, your happiness does not change. Output your final happiness at the end.**"
   ]
  },
  {
   "cell_type": "code",
   "execution_count": 68,
   "id": "exotic-start",
   "metadata": {},
   "outputs": [
    {
     "name": "stdout",
     "output_type": "stream",
     "text": [
      "Enter the Input\n",
      "\n",
      "3 2\n",
      "1 5 3\n",
      "3 1\n",
      "5 7\n",
      "Shown oputput Below\n",
      "\n",
      "1\n"
     ]
    }
   ],
   "source": [
    "if __name__ == '__main__':\n",
    "    print('Enter the Input\\n')\n",
    "n = input().split()\n",
    "n = map(int, n)\n",
    "n = map(int, input().split())\n",
    "A = set(map(int, input().split()))\n",
    "B = set(map(int, input().split()))\n",
    "counter = 0\n",
    "for i in n:\n",
    "    if i in A:\n",
    "        counter += 1\n",
    "    elif i in B:\n",
    "        counter -= 1\n",
    "print('Shown oputput Below\\n')\n",
    "print(counter)"
   ]
  },
  {
   "cell_type": "markdown",
   "id": "broke-hammer",
   "metadata": {},
   "source": [
    "## Symmetric Difference\n",
    "\n",
    "**Q8 Today, we're learning about a new data type: sets.\n",
    "Concept\n",
    "If the inputs are given on one line separated by a character (the delimiter), use split() to get the separate values in the form of a list. The delimiter is space (ascii 32) by default. To specify that comma is the delimiter, use string.split(','). For this challenge, and in general on HackerRank, space will be the delimiter.**"
   ]
  },
  {
   "cell_type": "code",
   "execution_count": 78,
   "id": "urban-capability",
   "metadata": {},
   "outputs": [
    {
     "name": "stdout",
     "output_type": "stream",
     "text": [
      "4\n",
      "2 4 5 9 \n",
      "4\n",
      "2 4 11 12\n",
      "show output below\n",
      "\n",
      "5\n",
      "9\n",
      "11\n",
      "12\n"
     ]
    }
   ],
   "source": [
    "int(input())\n",
    "N = input().split()\n",
    "Nint = set(list(map(int, N)))\n",
    "int(input())\n",
    "M = input().split()\n",
    "Mint = set(list(map(int, M)))\n",
    "res = []\n",
    "print('show output below\\n')\n",
    "for i in list(Nint.difference(Mint)):\n",
    "    res.append(i)\n",
    "for j in list(Mint.difference(Nint)):\n",
    "    res.append(j)\n",
    "for k in sorted(res):\n",
    "    print (k)"
   ]
  },
  {
   "cell_type": "markdown",
   "id": "comfortable-frame",
   "metadata": {},
   "source": [
    "## Q9.Introduction to Sets\n",
    "\n",
    " **A set is an unordered collection of elements without duplicate entries. \n",
    " When printed, iterated or converted into a sequence, its elements will appear in an arbitrary order.**\n",
    "\n",
    " **Basically, sets are used for membership testing and eliminating duplicate entries.**\n",
    "\n",
    "## Task\n",
    " **Now, let's use our knowledge of sets and help Mickey.\n",
    " Ms. Gabriel Williams is a botany professor at District College. One day, she asked her student Mickey to compute the average of all the\n",
    " plants with distinct heights in her greenhouse.**"
   ]
  },
  {
   "cell_type": "code",
   "execution_count": 87,
   "id": "processed-bookmark",
   "metadata": {},
   "outputs": [
    {
     "name": "stdout",
     "output_type": "stream",
     "text": [
      "Enter the input\n",
      "\n",
      "10\n",
      "161 182 161 154 176 170 167 171 170 174\n",
      "output shown below\n",
      "\n",
      "169.375\n"
     ]
    }
   ],
   "source": [
    "print('Enter the input\\n')\n",
    "N = int(input())\n",
    "O = set(map(int, input().split()))\n",
    "print('output shown below\\n')\n",
    "print (float(sum(O))/len(O))"
   ]
  },
  {
   "cell_type": "markdown",
   "id": "optimum-longer",
   "metadata": {},
   "source": [
    "## Q10.If we want to add a single element to an existing set, we can use the .add() operation. It adds the element to the set and returns 'None'\n",
    "\n",
    "**Example**\n",
    "\n",
    "**s = set('HackerRank')**\n",
    "\n",
    "**s.add('H')\n",
    "print s\n",
    "set(['a', 'c', 'e', 'H', 'k', 'n', 'r', 'R'])\n",
    "print s.add('HackerRank')\n",
    "None\n",
    "print s\n",
    "set(['a', 'c', 'e', 'HackerRank', 'H', 'k', 'n', 'r', 'R'])**\n",
    "\n",
    "### Task\n",
    "\n",
    "**Apply your knowledge of the .add() operation to help your friend Rupal.**"
   ]
  },
  {
   "cell_type": "code",
   "execution_count": 98,
   "id": "parliamentary-selling",
   "metadata": {},
   "outputs": [
    {
     "name": "stdout",
     "output_type": "stream",
     "text": [
      "7\n",
      "a\n",
      "s\n",
      "d\n",
      "fr\n",
      "g\n",
      "h\n",
      "hjjj\n",
      "output shown below\n",
      "\n",
      "7\n"
     ]
    }
   ],
   "source": [
    "n = int(input())\n",
    "country_set = set()\n",
    "\n",
    "for i in range(n):\n",
    "    country_name = input()\n",
    "    country_set.add(country_name)\n",
    "print('output shown below\\n')\n",
    "print(len(country_set))"
   ]
  },
  {
   "cell_type": "code",
   "execution_count": 97,
   "id": "persistent-parks",
   "metadata": {},
   "outputs": [
    {
     "name": "stdout",
     "output_type": "stream",
     "text": [
      "3\n",
      "INDIA\n",
      "USS\n",
      "USA\n",
      "output shown below\n",
      "\n",
      "3\n"
     ]
    }
   ],
   "source": [
    "N = int(input())\n",
    "s = set(input() for i in range(N))\n",
    "print('output shown below\\n')   \n",
    "print(len(s))"
   ]
  },
  {
   "cell_type": "markdown",
   "id": "square-state",
   "metadata": {},
   "source": [
    "## Q11 .remove(x) This operation removes element x from the set. If element x does not exist, it raises a KeyError. The .remove(x) operation returns None.\n",
    "\n",
    "**Example**\n",
    "\n",
    "s = set([1, 2, 3, 4, 5, 6, 7, 8, 9])\n",
    "s.remove(5)\n",
    "print s\n",
    "set([1, 2, 3, 4, 6, 7, 8, 9])\n",
    "print s.remove(4)\n",
    "None\n",
    "print s\n",
    "set([1, 2, 3, 6, 7, 8, 9])\n",
    "s.remove(0)\n",
    "KeyError: 0\n",
    "### .discard(x) This operation also removes element x from the set. If element x does not exist, it does not raise a KeyError. The .discard(x) operation returns None.\n",
    "\n",
    "**Example**\n",
    "\n",
    "s = set([1, 2, 3, 4, 5, 6, 7, 8, 9])\n",
    "\n",
    "s.discard(5)\n",
    "print s\n",
    "set([1, 2, 3, 4, 6, 7, 8, 9])\n",
    "print s.discard(4)\n",
    "None\n",
    "print s\n",
    "set([1, 2, 3, 6, 7, 8, 9])\n",
    "s.discard(0)\n",
    "print s\n",
    "set([1, 2, 3, 6, 7, 8, 9])\n",
    "### .pop() This operation removes and return an arbitrary element from the set. If there are no elements to remove, it raises a KeyError.\n",
    "\n",
    "**Example**\n",
    "\n",
    "s = set([1])\n",
    "\n",
    "print s.pop()\n",
    "1\n",
    "print s\n",
    "set([])\n",
    "print s.pop() KeyError: pop from an empty set\n",
    "Task You have a non-empty set s, and you have to execute N commands given in N lines.\n",
    "\n",
    "The commands will be pop, remove and discard."
   ]
  },
  {
   "cell_type": "code",
   "execution_count": 100,
   "id": "second-catholic",
   "metadata": {},
   "outputs": [
    {
     "name": "stdout",
     "output_type": "stream",
     "text": [
      "9\n",
      "1 2 3 4 5 6 7 8 9\n",
      "10\n",
      "pop\n",
      "remove 9\n",
      "discard 9\n",
      "discard 8\n",
      "remove 7\n",
      "pop\n",
      "discard 6\n",
      "remove 5\n",
      "pop\n",
      "discard 5\n",
      "4\n"
     ]
    }
   ],
   "source": [
    "N = int(input())\n",
    "s = set(map(int, input().split())) \n",
    "N = int(input())\n",
    "for i in range(N):\n",
    "    cmd = list(input().split(' '))\n",
    "    if (len(cmd) == 1):\n",
    "        s.pop()\n",
    "    else:\n",
    "        value = int(cmd[1])\n",
    "        s.discard(value)\n",
    "print(sum(s))"
   ]
  },
  {
   "cell_type": "markdown",
   "id": "homeless-beginning",
   "metadata": {},
   "source": [
    "## .union()\n",
    "\n",
    "#### Q12.The .union() operator returns the union of a set and the set of elements in an iterable.\n",
    "**Sometimes, the | operator is used in place of .union() operator, but it operates only on the set of elements in set.\n",
    "Set is immutable to the .union() operation (or | operation).**"
   ]
  },
  {
   "cell_type": "markdown",
   "id": "respiratory-australian",
   "metadata": {},
   "source": [
    "#### Task\n",
    "\n",
    "**The students of District College have subscriptions to English and French newspapers. Some students have subscribed only to English, some have subscribed to only French and some have subscribed to both newspapers.**\n",
    "\n",
    "**You are given two sets of student roll numbers. One set has subscribed to the English newspaper, and the other set is subscribed to the French newspaper. The same student could be in both sets. Your task is to find the total number of students who have subscribed to at least one newspaper.**\n",
    "\n",
    "#### Input Format\n",
    "\n",
    "**The first line contains an integer,n , the number of students who have subscribed to the English newspaper.\n",
    "The second line contains n space separated roll numbers of those students.\n",
    "The third line contains b, the number of students who have subscribed to the French newspaper.\n",
    "The fourth line contains b space separated roll numbers of those students.**"
   ]
  },
  {
   "cell_type": "code",
   "execution_count": 102,
   "id": "radical-shaft",
   "metadata": {},
   "outputs": [
    {
     "name": "stdout",
     "output_type": "stream",
     "text": [
      "9\n",
      "1 2 3 4 5 6 7 8 9\n",
      "9\n",
      "10 1 2 3 11 21 55 6 8\n",
      "output shown below\n",
      "\n",
      "13\n"
     ]
    }
   ],
   "source": [
    "n = input()\n",
    "s1 = set(map(int, input().split()))\n",
    "b = input()\n",
    "s2 = set(map(int,input().split()))\n",
    "print('output shown below\\n')\n",
    "print(len(s1.union(s2)))"
   ]
  },
  {
   "cell_type": "markdown",
   "id": "certified-password",
   "metadata": {},
   "source": [
    "## .intersection()\n",
    "\n",
    "#### Q13.The .intersection() operator returns the intersection of a set and the set of elements in an iterable. Sometimes, the & operator is used in place of the .intersection() operator, but it only operates on the set of elements in set. The set is immutable to the .intersection() operation (or & operation).\n",
    "\n",
    "**s = set(\"Hacker\")**\n",
    "\n",
    "**print s.intersection(\"Rank\")\n",
    "set(['a', 'k'])**\n",
    "\n",
    "**print s.intersection(set(['R', 'a', 'n', 'k']))**\n",
    "\n",
    "**set(['a', 'k'])**\n",
    "\n",
    "**print s.intersection(['R', 'a', 'n', 'k'])**\n",
    "\n",
    "**set(['a', 'k'])**\n",
    "\n",
    "**print s.intersection(enumerate(['R', 'a', 'n', 'k']))**\n",
    "\n",
    "**set([])**\n",
    "\n",
    "**print s.intersection({\"Rank\":1})**\n",
    "\n",
    "**set([])**\n",
    "\n",
    "**s & set(\"Rank\")**\n",
    "\n",
    "**set(['a', 'k'])**"
   ]
  },
  {
   "cell_type": "markdown",
   "id": "cooperative-death",
   "metadata": {},
   "source": [
    "### Task\n",
    "\n",
    "**The students of District College have subscriptions to English and French newspapers. Some students have subscribed only to English, some have subscribed only to French, and some have subscribed to both newspapers.\n",
    "You are given two sets of student roll numbers. One set has subscribed to the English newspaper, one set has subscribed to the French newspaper. Your task is to find the total number of students who have subscribed to both newspapers.**"
   ]
  },
  {
   "cell_type": "code",
   "execution_count": 103,
   "id": "determined-swedish",
   "metadata": {},
   "outputs": [
    {
     "name": "stdout",
     "output_type": "stream",
     "text": [
      "9\n",
      "1 2 3 4 5 6 7 8 9\n",
      "9\n",
      "10 1 2 3 11 21 55 6 8\n",
      "5\n"
     ]
    }
   ],
   "source": [
    "e = int(input())\n",
    "s1 = set(map(int,input().split()))\n",
    "f = int(input())\n",
    "s2 = set(map(int,input().split()))\n",
    "print(len(s1 & s2))"
   ]
  },
  {
   "cell_type": "markdown",
   "id": "diverse-thursday",
   "metadata": {},
   "source": [
    "# .difference()\n",
    "\n",
    "### Q14.The tool .difference() returns a set with all the elements from the set that are not in an iterable. Sometimes the - operator is used in place of the .difference() tool, but it only operates on the set of elements in set. Set is immutable to the .difference() operation (or the - operation).\n",
    "### Task \n",
    "**Students of District College have a subscription to English and French newspapers. Some students have subscribed to only the English newspaper, some have subscribed to only the French newspaper, and some have subscribed to both newspapers.**\n",
    "\n",
    "**You are given two sets of student roll numbers. One set has subscribed to the English newspaper, and one set has subscribed to the French newspaper. Your task is to find the total number of students who have subscribed to only English newspapers.**"
   ]
  },
  {
   "cell_type": "code",
   "execution_count": 104,
   "id": "color-negative",
   "metadata": {},
   "outputs": [
    {
     "name": "stdout",
     "output_type": "stream",
     "text": [
      "9\n",
      "1 2 3 4 5 6 7 8 9\n",
      "9\n",
      "10 1 2 3 11 21 55 6 8\n",
      "4\n"
     ]
    }
   ],
   "source": [
    "e = int(input())\n",
    "s1 = set(map(int,input().split())) \n",
    "f = int(input())\n",
    "s2 = set(map(int,input().split()))\n",
    "print(len(s1 - s2))"
   ]
  },
  {
   "cell_type": "markdown",
   "id": "local-feedback",
   "metadata": {},
   "source": [
    "### .symmetric_difference()\n",
    "\n",
    "#### 15.The .symmetric_difference() operator returns a set with all the elements that are in the set and the iterable but not both. Sometimes, a ^ operator is used in place of the .symmetric_difference() tool, but it only operates on the set of elements in set. The set is immutable to the .symmetric_difference() operation (or ^ operation).\n",
    "\n",
    "s = set(\"Hacker\")\n",
    "\n",
    "print s.symmetric_difference(\"Rank\")\n",
    "set(['c', 'e', 'H', 'n', 'R', 'r'])\n",
    "\n",
    "print s.symmetric_difference(set(['R', 'a', 'n', 'k']))\n",
    "\n",
    "set(['c', 'e', 'H', 'n', 'R', 'r'])\n",
    "\n",
    "print s.symmetric_difference(['R', 'a', 'n', 'k'])\n",
    "\n",
    "set(['c', 'e', 'H', 'n', 'R', 'r'])\n",
    "\n",
    "print s.symmetric_difference(enumerate(['R', 'a', 'n', 'k']))\n",
    "\n",
    "set(['a', 'c', 'e', 'H', (0, 'R'), 'r', (2, 'n'), 'k', (1, 'a'), (3, 'k')])\n",
    "\n",
    "print s.symmetric_difference({\"Rank\":1})\n",
    "\n",
    "set(['a', 'c', 'e', 'H', 'k', 'Rank', 'r'])\n",
    "\n",
    "s ^ set(\"Rank\")\n",
    "\n",
    "set(['c', 'e', 'H', 'n', 'R', 'r'])\n",
    "\n",
    "### Task \n",
    "**Students of District College have subscriptions to English and French newspapers. Some students have subscribed to English only, some have subscribed to French only, and some have subscribed to both newspapers.**\n",
    "\n",
    "**You are given two sets of student roll numbers. One set has subscribed to the English newspaper, and one set has subscribed to the French newspaper. Your task is to find the total number of students who have subscribed to either the English or the French newspaper but not both.**"
   ]
  },
  {
   "cell_type": "markdown",
   "id": "composite-globe",
   "metadata": {},
   "source": [
    "### Input Format\n",
    "\n",
    "**The first line contains the number of students who have subscribed to the English newspaper.\n",
    "The second line contains the space separated list of student roll numbers who have subscribed to the English newspaper. The third line contains the number of students who have subscribed to the French newspaper.\n",
    "The fourth line contains the space separated list of student roll numbers who have subscribed to the French newspaper.**"
   ]
  },
  {
   "cell_type": "code",
   "execution_count": 106,
   "id": "objective-signature",
   "metadata": {},
   "outputs": [
    {
     "name": "stdout",
     "output_type": "stream",
     "text": [
      "9\n",
      "1 2 3 4 5 6 7 8 9\n",
      "9\n",
      "10 1 2 3 11 21 55 6 8\n",
      "8\n"
     ]
    }
   ],
   "source": [
    "e = int(input())\n",
    "s1 = set(map(int,input().split())) \n",
    "f = int(input())\n",
    "s2 = set(map(int,input().split()))\n",
    "print(len(s1 ^ s2))"
   ]
  },
  {
   "cell_type": "markdown",
   "id": "clinical-bolivia",
   "metadata": {},
   "source": [
    "### Set Mutation\n",
    "\n",
    "### Q15.We have seen the applications of union, intersection, difference and symmetric difference operations, but these operations do not make any changes or mutations to the set.\n",
    "\n",
    "**We can use the following operations to create mutations to a set:**\n",
    "\n",
    "### .update() or |=\n",
    "\n",
    "Update the set by adding elements from an iterable/another set.\n",
    "\n",
    "H = set(\"Hacker\")\n",
    "\n",
    "R = set(\"Rank\")\n",
    "H.update(R)\n",
    "print H\n",
    "set(['a', 'c', 'e', 'H', 'k', 'n', 'r', 'R'])\n",
    ".intersection_update() or &=\n",
    "Update the set by keeping only the elements found in it and an iterable/another set.\n",
    "\n",
    "H = set(\"Hacker\")\n",
    "\n",
    "R = set(\"Rank\")\n",
    "H.intersection_update(R)\n",
    "print H\n",
    "set(['a', 'k'])\n",
    ".difference_update() or -=\n",
    "Update the set by removing elements found in an iterable/another set.\n",
    "\n",
    "H = set(\"Hacker\")\n",
    "\n",
    "R = set(\"Rank\")\n",
    "H.difference_update(R)\n",
    "print H\n",
    "set(['c', 'e', 'H', 'r'])\n",
    ".symmetric_difference_update() or ^=\n",
    "Update the set by only keeping the elements found in either set, but not in both.\n",
    "\n",
    "H = set(\"Hacker\")\n",
    "\n",
    "R = set(\"Rank\")\n",
    "H.symmetric_difference_update(R)\n",
    "print H\n",
    "set(['c', 'e', 'H', 'n', 'r', 'R'])"
   ]
  },
  {
   "cell_type": "markdown",
   "id": "crude-supplement",
   "metadata": {},
   "source": [
    "### TASK\n",
    "\n",
    "**You are given a set A and N number of other sets. These N number of sets have to perform some specific mutation operations on set A.\n",
    "Your task is to execute those operations and print the sum of elements from set A.**"
   ]
  },
  {
   "cell_type": "code",
   "execution_count": 108,
   "id": "silent-edgar",
   "metadata": {},
   "outputs": [
    {
     "name": "stdout",
     "output_type": "stream",
     "text": [
      "16\n",
      "1 2 3 4 5 6 7 8 9 10 11 12 13 14 24 52\n",
      "4\n",
      "intersection_update 10\n",
      "2 3 5 6  8 9 1 4 7 11 \n",
      "update 2\n",
      "55 56\n",
      "symmetric_difference_update 5\n",
      "22 7 35 62 58\n",
      "difference_update 7\n",
      "11 22 35 55 58 62 66\n",
      "94\n"
     ]
    }
   ],
   "source": [
    "n = int(input())\n",
    "a = set(map(int,input().split()))\n",
    "N = int(input())\n",
    "for i in range(N):\n",
    "    cmd = input().split()\n",
    "    opt = cmd[0]\n",
    "    s = set(map(int,input().split()))\n",
    "    if (opt == 'update'):\n",
    "        a |= s\n",
    "    elif (opt == 'intersection_update'):\n",
    "        a &= s\n",
    "    elif (opt == 'difference_update'):\n",
    "        a -= s\n",
    "    elif (opt == 'symmetric_difference_update'):\n",
    "        a ^= s\n",
    "print(sum(a))"
   ]
  },
  {
   "cell_type": "markdown",
   "id": "abandoned-skating",
   "metadata": {},
   "source": [
    "## The Captain's Room\n",
    "\n",
    "Mr. Anant Asankhya is the manager at the INFINITE hotel. The hotel has an infinite amount of rooms.\n",
    "*One fine day, a finite number of tourists come to stay at the hotel. The tourists consist of: → A Captain. → An unknown group of families consisting of K members per group where K ≠ 1.\n",
    "\n",
    "The Captain was given a separate room, and the rest were given one room per group.\n",
    "\n",
    "Mr. Anant has an unordered list of randomly arranged room entries. The list consists of the room numbers for all of the tourists. The room numbers will appear K times per group except for the Captain's room.\n",
    "\n",
    "Mr. Anant needs you to help him find the Captain's room number. The total number of tourists or the total number of groups of families is not known to you. You only know the value of K and the room number list."
   ]
  },
  {
   "cell_type": "code",
   "execution_count": 110,
   "id": "loved-spokesman",
   "metadata": {},
   "outputs": [
    {
     "name": "stdout",
     "output_type": "stream",
     "text": [
      "5\n",
      "1 2 3 6 5 4 4 2 5 3 6 1 6 5 3 2 4 1 2 5 1 4 3 6 8 4 3 1 5 6 2\n",
      "8\n"
     ]
    }
   ],
   "source": [
    "k = int(input())\n",
    "room_num_list = list(map(int,input().split()))\n",
    "room_num_set = set(room_num_list)\n",
    "room_num_list_sum = sum(room_num_list)\n",
    "room_num_set_sum = sum(room_num_set) * k\n",
    "diff = room_num_set_sum - room_num_list_sum\n",
    "for i in room_num_set:\n",
    "    if diff == ((k-1)*i):\n",
    "        print(i)\n",
    "        break"
   ]
  },
  {
   "cell_type": "markdown",
   "id": "obvious-intent",
   "metadata": {},
   "source": [
    "## Check Subset\n",
    "\n",
    "You are given two sets, A and B .\n",
    "Your job is to find whether set A is a subset of set B.\n",
    "\n",
    "If set A is subset of set B, print True.\n",
    "\n",
    "If set A is not a subset of set B, print False."
   ]
  },
  {
   "cell_type": "code",
   "execution_count": 111,
   "id": "protected-branch",
   "metadata": {},
   "outputs": [
    {
     "name": "stdout",
     "output_type": "stream",
     "text": [
      "3\n",
      "5\n",
      "1 2 3 5 6\n",
      "9\n",
      "9 8 5 6 3 2 1 4 7\n",
      "True\n",
      "1\n",
      "2\n",
      "5\n",
      "3 6 5 4 1\n",
      "False\n",
      "7\n",
      "1 2 3 5 6 8 9\n",
      "3\n",
      "9 8 2\n",
      "False\n"
     ]
    }
   ],
   "source": [
    "for i in range(int(input())): \n",
    "    a = int(input()); A = set(input().split()) \n",
    "    b = int(input()); B = set(input().split())\n",
    "    print((A & B) == A)"
   ]
  },
  {
   "cell_type": "markdown",
   "id": "governmental-university",
   "metadata": {},
   "source": [
    "## Check Strict Superset\n"
   ]
  },
  {
   "cell_type": "markdown",
   "id": "cross-tournament",
   "metadata": {},
   "source": [
    "### Input Format\n",
    "\n",
    "**The first line contains the space separated elements of set A.\n",
    "The second line contains integer n , the number of other sets.\n",
    "The n next  lines contains the space separated elements of the other sets.**"
   ]
  },
  {
   "cell_type": "code",
   "execution_count": 112,
   "id": "cathedral-indonesian",
   "metadata": {},
   "outputs": [
    {
     "name": "stdout",
     "output_type": "stream",
     "text": [
      "1 2 3 4 5 6 7 8 9 10 11 12 23 45 84 78\n",
      "2\n",
      "1 2 3 4 5\n",
      "100 11 12\n",
      "False\n"
     ]
    }
   ],
   "source": [
    "A  = set(input().split())\n",
    "n = int(input())\n",
    "check = True\n",
    "for i in range(n):\n",
    "    s = set(input().split())\n",
    "    if (s&A != s) or (s == A):\n",
    "        check = False\n",
    "        break\n",
    "print(check)"
   ]
  },
  {
   "attachments": {
    "img.jpg": {
     "image/jpeg": "[encoded data removed]"
    }
   },
   "cell_type": "markdown",
   "id": "banner-colon",
   "metadata": {},
   "source": [
    "![img.jpg](attachment:img.jpg)"
   ]
  },
  {
   "cell_type": "code",
   "execution_count": null,
   "id": "european-founder",
   "metadata": {},
   "outputs": [],
   "source": []
  }
 ],
 "metadata": {
  "kernelspec": {
   "display_name": "Python 3",
   "language": "python",
   "name": "python3"
  },
  "language_info": {
   "codemirror_mode": {
    "name": "ipython",
    "version": 3
   },
   "file_extension": ".py",
   "mimetype": "text/x-python",
   "name": "python",
   "nbconvert_exporter": "python",
   "pygments_lexer": "ipython3",
   "version": "3.8.8"
  }
 },
 "nbformat": 4,
 "nbformat_minor": 5
}
